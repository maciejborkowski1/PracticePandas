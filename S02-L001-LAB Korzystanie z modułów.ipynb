{
 "cells": [
  {
   "cell_type": "code",
   "execution_count": 1,
   "metadata": {},
   "outputs": [],
   "source": [
    "import pandas as pd\n",
    "import numpy as np\n",
    "import matplotlib.pyplot as plt\n",
    "import math as math"
   ]
  },
  {
   "cell_type": "code",
   "execution_count": 2,
   "metadata": {},
   "outputs": [],
   "source": [
    "%matplotlib inline"
   ]
  },
  {
   "cell_type": "code",
   "execution_count": 3,
   "metadata": {},
   "outputs": [],
   "source": [
    "days =[1,2,3,4,5]\n",
    "amount = [1,5,20,450,700]"
   ]
  },
  {
   "cell_type": "code",
   "execution_count": 12,
   "metadata": {
    "collapsed": true
   },
   "outputs": [
    {
     "data": {
      "text/plain": [
       "[<matplotlib.lines.Line2D at 0x1e78d750048>]"
      ]
     },
     "execution_count": 12,
     "metadata": {},
     "output_type": "execute_result"
    },
    {
     "data": {
      "image/png": "[encoded data removed]",
      "text/plain": [
       "<Figure size 432x288 with 1 Axes>"
      ]
     },
     "metadata": {
      "needs_background": "light"
     },
     "output_type": "display_data"
    }
   ],
   "source": [
    "plt.plot(days,amount,'bs')"
   ]
  },
  {
   "cell_type": "code",
   "execution_count": 10,
   "metadata": {},
   "outputs": [
    {
     "data": {
      "text/plain": [
       "array([ 1,  2,  3,  4,  5,  6,  7,  8,  9, 10, 11, 12])"
      ]
     },
     "execution_count": 10,
     "metadata": {},
     "output_type": "execute_result"
    }
   ],
   "source": [
    "months = np.arange(1,13,1)\n",
    "months"
   ]
  },
  {
   "cell_type": "markdown",
   "metadata": {},
   "source": [
    "### odnosząc się do tabeli w np nie musimy znowu wywolywac funkcji (patrz poniżej)"
   ]
  },
  {
   "cell_type": "code",
   "execution_count": 13,
   "metadata": {},
   "outputs": [
    {
     "data": {
      "text/plain": [
       "array([103, 106, 109, 112, 115, 118, 121, 124, 127, 130, 133, 136])"
      ]
     },
     "execution_count": 13,
     "metadata": {},
     "output_type": "execute_result"
    }
   ],
   "source": [
    "income = 100+3*months\n",
    "income"
   ]
  },
  {
   "cell_type": "code",
   "execution_count": 14,
   "metadata": {
    "collapsed": true
   },
   "outputs": [
    {
     "data": {
      "text/plain": [
       "[<matplotlib.lines.Line2D at 0x1e78d39b240>]"
      ]
     },
     "execution_count": 14,
     "metadata": {},
     "output_type": "execute_result"
    },
    {
     "data": {
      "image/png": "[encoded data removed]",
      "text/plain": [
       "<Figure size 432x288 with 1 Axes>"
      ]
     },
     "metadata": {
      "needs_background": "light"
     },
     "output_type": "display_data"
    }
   ],
   "source": [
    "plt.plot(months,income,'go')"
   ]
  },
  {
   "cell_type": "code",
   "execution_count": 17,
   "metadata": {},
   "outputs": [
    {
     "data": {
      "text/plain": [
       "array([ 60,  70,  80,  90, 100, 110, 120, 130, 140, 150, 160, 170])"
      ]
     },
     "execution_count": 17,
     "metadata": {},
     "output_type": "execute_result"
    }
   ],
   "source": [
    "cost = 50+10*months\n",
    "cost"
   ]
  },
  {
   "cell_type": "code",
   "execution_count": 19,
   "metadata": {},
   "outputs": [
    {
     "data": {
      "text/plain": [
       "[<matplotlib.lines.Line2D at 0x1e78c1e3e80>,\n",
       " <matplotlib.lines.Line2D at 0x1e78c1e3940>]"
      ]
     },
     "execution_count": 19,
     "metadata": {},
     "output_type": "execute_result"
    },
    {
     "data": {
      "image/png": "[encoded data removed]",
      "text/plain": [
       "<Figure size 432x288 with 1 Axes>"
      ]
     },
     "metadata": {
      "needs_background": "light"
     },
     "output_type": "display_data"
    }
   ],
   "source": [
    "plt.plot(months,income,'go', months, cost, 'r^')"
   ]
  },
  {
   "cell_type": "code",
   "execution_count": 28,
   "metadata": {
    "collapsed": true
   },
   "outputs": [
    {
     "data": {
      "text/plain": [
       "array([-5.10000000e+00, -5.00000000e+00, -4.90000000e+00, -4.80000000e+00,\n",
       "       -4.70000000e+00, -4.60000000e+00, -4.50000000e+00, -4.40000000e+00,\n",
       "       -4.30000000e+00, -4.20000000e+00, -4.10000000e+00, -4.00000000e+00,\n",
       "       -3.90000000e+00, -3.80000000e+00, -3.70000000e+00, -3.60000000e+00,\n",
       "       -3.50000000e+00, -3.40000000e+00, -3.30000000e+00, -3.20000000e+00,\n",
       "       -3.10000000e+00, -3.00000000e+00, -2.90000000e+00, -2.80000000e+00,\n",
       "       -2.70000000e+00, -2.60000000e+00, -2.50000000e+00, -2.40000000e+00,\n",
       "       -2.30000000e+00, -2.20000000e+00, -2.10000000e+00, -2.00000000e+00,\n",
       "       -1.90000000e+00, -1.80000000e+00, -1.70000000e+00, -1.60000000e+00,\n",
       "       -1.50000000e+00, -1.40000000e+00, -1.30000000e+00, -1.20000000e+00,\n",
       "       -1.10000000e+00, -1.00000000e+00, -9.00000000e-01, -8.00000000e-01,\n",
       "       -7.00000000e-01, -6.00000000e-01, -5.00000000e-01, -4.00000000e-01,\n",
       "       -3.00000000e-01, -2.00000000e-01, -1.00000000e-01, -1.77635684e-14,\n",
       "        1.00000000e-01,  2.00000000e-01,  3.00000000e-01,  4.00000000e-01,\n",
       "        5.00000000e-01,  6.00000000e-01,  7.00000000e-01,  8.00000000e-01,\n",
       "        9.00000000e-01,  1.00000000e+00,  1.10000000e+00,  1.20000000e+00,\n",
       "        1.30000000e+00,  1.40000000e+00,  1.50000000e+00,  1.60000000e+00,\n",
       "        1.70000000e+00,  1.80000000e+00,  1.90000000e+00,  2.00000000e+00,\n",
       "        2.10000000e+00,  2.20000000e+00,  2.30000000e+00,  2.40000000e+00,\n",
       "        2.50000000e+00,  2.60000000e+00,  2.70000000e+00,  2.80000000e+00,\n",
       "        2.90000000e+00,  3.00000000e+00,  3.10000000e+00,  3.20000000e+00,\n",
       "        3.30000000e+00,  3.40000000e+00,  3.50000000e+00,  3.60000000e+00,\n",
       "        3.70000000e+00,  3.80000000e+00,  3.90000000e+00,  4.00000000e+00,\n",
       "        4.10000000e+00,  4.20000000e+00,  4.30000000e+00,  4.40000000e+00,\n",
       "        4.50000000e+00,  4.60000000e+00,  4.70000000e+00,  4.80000000e+00,\n",
       "        4.90000000e+00,  5.00000000e+00])"
      ]
     },
     "execution_count": 28,
     "metadata": {},
     "output_type": "execute_result"
    }
   ],
   "source": [
    "x = np.arange(-5.1,5.1,0.1)\n",
    "x"
   ]
  },
  {
   "cell_type": "code",
   "execution_count": 26,
   "metadata": {},
   "outputs": [
    {
     "data": {
      "image/png": "[encoded data removed]",
      "text/plain": [
       "<Figure size 432x288 with 1 Axes>"
      ]
     },
     "metadata": {
      "needs_background": "light"
     },
     "output_type": "display_data"
    }
   ],
   "source": [
    "plt.plot(x,pow(2,x))\n",
    "plt.xlabel('X-arguments')\n",
    "plt.ylabel('Y-arguments')\n",
    "plt.show()"
   ]
  },
  {
   "cell_type": "code",
   "execution_count": null,
   "metadata": {},
   "outputs": [],
   "source": []
  }
 ],
 "metadata": {
  "kernelspec": {
   "display_name": "Python 3",
   "language": "python",
   "name": "python3"
  },
  "language_info": {
   "codemirror_mode": {
    "name": "ipython",
    "version": 3
   },
   "file_extension": ".py",
   "mimetype": "text/x-python",
   "name": "python",
   "nbconvert_exporter": "python",
   "pygments_lexer": "ipython3",
   "version": "3.7.3"
  }
 },
 "nbformat": 4,
 "nbformat_minor": 2
}
