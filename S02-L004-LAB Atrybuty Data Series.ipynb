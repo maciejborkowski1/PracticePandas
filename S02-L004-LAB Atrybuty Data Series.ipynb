{
 "cells": [
  {
   "cell_type": "code",
   "execution_count": 3,
   "metadata": {},
   "outputs": [],
   "source": [
    "import pandas as pd\n",
    "import numpy as np\n",
    "import matplotlib.pyplot as plt\n",
    "import math as math"
   ]
  },
  {
   "cell_type": "code",
   "execution_count": 4,
   "metadata": {},
   "outputs": [],
   "source": [
    "import random as rnd\n",
    "dataAsFloatList = []\n",
    "for i in range (100000):\n",
    "    dataAsFloatList.append(i*rnd.random())"
   ]
  },
  {
   "cell_type": "code",
   "execution_count": 5,
   "metadata": {},
   "outputs": [],
   "source": [
    "dataAsFloatSeries = pd.Series(dataAsFloatList)"
   ]
  },
  {
   "cell_type": "code",
   "execution_count": 21,
   "metadata": {},
   "outputs": [
    {
     "name": "stdout",
     "output_type": "stream",
     "text": [
      "size: \t 100000\n",
      "nbytes:\t 800000\n",
      "dtype: \t float64\n"
     ]
    }
   ],
   "source": [
    "print('size: \\t', dataAsFloatSeries.size)\n",
    "print('nbytes:\\t', dataAsFloatSeries.nbytes)\n",
    "print('dtype: \\t', dataAsFloatSeries.dtype)"
   ]
  },
  {
   "cell_type": "code",
   "execution_count": 15,
   "metadata": {},
   "outputs": [],
   "source": [
    "dataAsStringList = []\n",
    "for i in range (100000):\n",
    "    dataAsStringList.append(str(i*rnd.random()))"
   ]
  },
  {
   "cell_type": "code",
   "execution_count": 16,
   "metadata": {},
   "outputs": [],
   "source": [
    "dataAsStringSeries = pd.Series(dataAsStringList)"
   ]
  },
  {
   "cell_type": "code",
   "execution_count": 23,
   "metadata": {},
   "outputs": [
    {
     "name": "stdout",
     "output_type": "stream",
     "text": [
      "size: \t 100000\n",
      "nbytes:\t 800000\n",
      "dtype: \t object\n"
     ]
    }
   ],
   "source": [
    "print('size: \\t', dataAsStringSeries.size)\n",
    "print('nbytes:\\t', dataAsStringSeries.nbytes)\n",
    "print('dtype: \\t', dataAsStringSeries.dtype)"
   ]
  },
  {
   "cell_type": "code",
   "execution_count": 25,
   "metadata": {},
   "outputs": [
    {
     "name": "stdout",
     "output_type": "stream",
     "text": [
      "real nbytes Float:\t 800128\n",
      "real nbytes String:\t 7434660\n"
     ]
    }
   ],
   "source": [
    "print('real nbytes Float:\\t', dataAsFloatSeries.memory_usage(deep=True))\n",
    "print('real nbytes String:\\t', dataAsStringSeries.memory_usage(deep=True))"
   ]
  },
  {
   "cell_type": "code",
   "execution_count": null,
   "metadata": {},
   "outputs": [],
   "source": []
  }
 ],
 "metadata": {
  "kernelspec": {
   "display_name": "Python 3",
   "language": "python",
   "name": "python3"
  },
  "language_info": {
   "codemirror_mode": {
    "name": "ipython",
    "version": 3
   },
   "file_extension": ".py",
   "mimetype": "text/x-python",
   "name": "python",
   "nbconvert_exporter": "python",
   "pygments_lexer": "ipython3",
   "version": "3.7.3"
  }
 },
 "nbformat": 4,
 "nbformat_minor": 2
}
